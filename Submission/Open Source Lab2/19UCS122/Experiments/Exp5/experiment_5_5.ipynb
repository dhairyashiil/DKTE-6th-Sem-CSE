{
  "cells": [
    {
      "cell_type": "code",
      "execution_count": null,
      "metadata": {
        "id": "i5ZO7H4LJFT-"
      },
      "outputs": [],
      "source": [
        "import numpy as np\n",
        "import pandas as pd\n",
        "import matplotlib.pyplot as plt"
      ],
      "id": "i5ZO7H4LJFT-"
    },
    {
      "cell_type": "code",
      "execution_count": null,
      "metadata": {
        "id": "DzwX3sgZJFUE",
        "outputId": "27e29058-2ef9-4f7f-8902-fded08d27fba"
      },
      "outputs": [
        {
          "data": {
            "text/html": [
              "<div>\n",
              "<style scoped>\n",
              "    .dataframe tbody tr th:only-of-type {\n",
              "        vertical-align: middle;\n",
              "    }\n",
              "\n",
              "    .dataframe tbody tr th {\n",
              "        vertical-align: top;\n",
              "    }\n",
              "\n",
              "    .dataframe thead th {\n",
              "        text-align: right;\n",
              "    }\n",
              "</style>\n",
              "<table border=\"1\" class=\"dataframe\">\n",
              "  <thead>\n",
              "    <tr style=\"text-align: right;\">\n",
              "      <th></th>\n",
              "      <th>Position</th>\n",
              "      <th>Level</th>\n",
              "      <th>Salary</th>\n",
              "    </tr>\n",
              "  </thead>\n",
              "  <tbody>\n",
              "    <tr>\n",
              "      <th>0</th>\n",
              "      <td>Business Analyst</td>\n",
              "      <td>1</td>\n",
              "      <td>45000</td>\n",
              "    </tr>\n",
              "    <tr>\n",
              "      <th>1</th>\n",
              "      <td>Junior Consultant</td>\n",
              "      <td>2</td>\n",
              "      <td>50000</td>\n",
              "    </tr>\n",
              "    <tr>\n",
              "      <th>2</th>\n",
              "      <td>Senior Consultant</td>\n",
              "      <td>3</td>\n",
              "      <td>60000</td>\n",
              "    </tr>\n",
              "    <tr>\n",
              "      <th>3</th>\n",
              "      <td>Manager</td>\n",
              "      <td>4</td>\n",
              "      <td>80000</td>\n",
              "    </tr>\n",
              "    <tr>\n",
              "      <th>4</th>\n",
              "      <td>Country Manager</td>\n",
              "      <td>5</td>\n",
              "      <td>110000</td>\n",
              "    </tr>\n",
              "    <tr>\n",
              "      <th>5</th>\n",
              "      <td>Region Manager</td>\n",
              "      <td>6</td>\n",
              "      <td>150000</td>\n",
              "    </tr>\n",
              "    <tr>\n",
              "      <th>6</th>\n",
              "      <td>Partner</td>\n",
              "      <td>7</td>\n",
              "      <td>200000</td>\n",
              "    </tr>\n",
              "    <tr>\n",
              "      <th>7</th>\n",
              "      <td>Senior Partner</td>\n",
              "      <td>8</td>\n",
              "      <td>300000</td>\n",
              "    </tr>\n",
              "    <tr>\n",
              "      <th>8</th>\n",
              "      <td>C-level</td>\n",
              "      <td>9</td>\n",
              "      <td>500000</td>\n",
              "    </tr>\n",
              "    <tr>\n",
              "      <th>9</th>\n",
              "      <td>CEO</td>\n",
              "      <td>10</td>\n",
              "      <td>1000000</td>\n",
              "    </tr>\n",
              "  </tbody>\n",
              "</table>\n",
              "</div>"
            ],
            "text/plain": [
              "            Position  Level   Salary\n",
              "0   Business Analyst      1    45000\n",
              "1  Junior Consultant      2    50000\n",
              "2  Senior Consultant      3    60000\n",
              "3            Manager      4    80000\n",
              "4    Country Manager      5   110000\n",
              "5     Region Manager      6   150000\n",
              "6            Partner      7   200000\n",
              "7     Senior Partner      8   300000\n",
              "8            C-level      9   500000\n",
              "9                CEO     10  1000000"
            ]
          },
          "execution_count": 2,
          "metadata": {},
          "output_type": "execute_result"
        }
      ],
      "source": [
        "dataset = pd.read_csv('Position_Salaries.csv')\n",
        "dataset"
      ],
      "id": "DzwX3sgZJFUE"
    },
    {
      "cell_type": "code",
      "execution_count": null,
      "metadata": {
        "id": "5zRxnEBBJFUG",
        "outputId": "3ea3e100-6376-403b-d908-3e95b0871532"
      },
      "outputs": [
        {
          "data": {
            "text/plain": [
              "pandas.core.frame.DataFrame"
            ]
          },
          "execution_count": 3,
          "metadata": {},
          "output_type": "execute_result"
        }
      ],
      "source": [
        "x = dataset.iloc[:,1:2]\n",
        "x\n",
        "type(x)"
      ],
      "id": "5zRxnEBBJFUG"
    },
    {
      "cell_type": "code",
      "execution_count": null,
      "metadata": {
        "id": "yJspNMKKJFUH",
        "outputId": "6dccaf3b-623c-414c-bee5-7c3f8daf1c52"
      },
      "outputs": [
        {
          "data": {
            "text/plain": [
              "array([[  45000],\n",
              "       [  50000],\n",
              "       [  60000],\n",
              "       [  80000],\n",
              "       [ 110000],\n",
              "       [ 150000],\n",
              "       [ 200000],\n",
              "       [ 300000],\n",
              "       [ 500000],\n",
              "       [1000000]], dtype=int64)"
            ]
          },
          "execution_count": 4,
          "metadata": {},
          "output_type": "execute_result"
        }
      ],
      "source": [
        "y = dataset.iloc[:,2:].values\n",
        "y"
      ],
      "id": "yJspNMKKJFUH"
    },
    {
      "cell_type": "code",
      "execution_count": null,
      "metadata": {
        "id": "qnoT0s9GJFUI",
        "outputId": "ba76d0d6-f7b9-4ec9-8c65-8a86e5f5fdc7"
      },
      "outputs": [
        {
          "data": {
            "text/plain": [
              "<matplotlib.collections.PathCollection at 0x1a4346f25b0>"
            ]
          },
          "execution_count": 5,
          "metadata": {},
          "output_type": "execute_result"
        },
        {
          "data": {
            "image/png": "[encoded data removed]",
            "text/plain": [
              "<Figure size 432x288 with 1 Axes>"
            ]
          },
          "metadata": {
            "needs_background": "light"
          },
          "output_type": "display_data"
        }
      ],
      "source": [
        "fig = plt.figure()\n",
        "ax = fig.add_axes([10,20,1,1])\n",
        "ax.scatter(x,y,color='blue')"
      ],
      "id": "qnoT0s9GJFUI"
    },
    {
      "cell_type": "code",
      "execution_count": null,
      "metadata": {
        "id": "sdJKmIC7JFUJ"
      },
      "outputs": [],
      "source": [
        "from sklearn.preprocessing import PolynomialFeatures\n",
        "from sklearn.linear_model import LinearRegression"
      ],
      "id": "sdJKmIC7JFUJ"
    },
    {
      "cell_type": "code",
      "execution_count": null,
      "metadata": {
        "id": "-yqPFxx8JFUK"
      },
      "outputs": [],
      "source": [
        "poly = PolynomialFeatures(degree=10)\n",
        "x_poly = poly.fit_transform(x)"
      ],
      "id": "-yqPFxx8JFUK"
    },
    {
      "cell_type": "code",
      "execution_count": null,
      "metadata": {
        "id": "-hSuia3GJFUL",
        "outputId": "0f205384-416a-4f20-f934-8cf17b2644d4"
      },
      "outputs": [
        {
          "data": {
            "text/plain": [
              "LinearRegression()"
            ]
          },
          "execution_count": 8,
          "metadata": {},
          "output_type": "execute_result"
        }
      ],
      "source": [
        "reg = LinearRegression()\n",
        "reg.fit(x_poly,y)"
      ],
      "id": "-hSuia3GJFUL"
    },
    {
      "cell_type": "code",
      "execution_count": null,
      "metadata": {
        "id": "cIP9cnm5JFUM",
        "outputId": "974269fe-13c6-43ad-d923-63333ea7fbc2"
      },
      "outputs": [
        {
          "data": {
            "text/plain": [
              "[<matplotlib.lines.Line2D at 0x1a4371c2610>]"
            ]
          },
          "execution_count": 9,
          "metadata": {},
          "output_type": "execute_result"
        },
        {
          "data": {
            "image/png": "[encoded data removed]",
            "text/plain": [
              "<Figure size 432x288 with 1 Axes>"
            ]
          },
          "metadata": {
            "needs_background": "light"
          },
          "output_type": "display_data"
        }
      ],
      "source": [
        "plt.scatter(x,y,color=\"blue\")\n",
        "plt.plot(x, reg.predict(poly.fit_transform(x)),color=\"red\")"
      ],
      "id": "cIP9cnm5JFUM"
    },
    {
      "cell_type": "code",
      "execution_count": null,
      "metadata": {
        "id": "DtNQogVtJFUN",
        "outputId": "3db454b2-5f14-4d48-f2e1-07648fc0529a"
      },
      "outputs": [
        {
          "data": {
            "text/plain": [
              "array([[1000000.00330114]])"
            ]
          },
          "execution_count": 10,
          "metadata": {},
          "output_type": "execute_result"
        }
      ],
      "source": [
        "reg.predict(poly.fit_transform([[10]]))"
      ],
      "id": "DtNQogVtJFUN"
    },
    {
      "cell_type": "code",
      "execution_count": null,
      "metadata": {
        "id": "NTkFjO7bJFUO"
      },
      "outputs": [],
      "source": [
        "from sklearn.linear_model import Ridge"
      ],
      "id": "NTkFjO7bJFUO"
    },
    {
      "cell_type": "code",
      "execution_count": null,
      "metadata": {
        "id": "e-ItvipAJFUP",
        "outputId": "c8c7dc5b-fa9e-4a14-f369-226a13ba15ee"
      },
      "outputs": [
        {
          "data": {
            "text/html": [
              "<div>\n",
              "<style scoped>\n",
              "    .dataframe tbody tr th:only-of-type {\n",
              "        vertical-align: middle;\n",
              "    }\n",
              "\n",
              "    .dataframe tbody tr th {\n",
              "        vertical-align: top;\n",
              "    }\n",
              "\n",
              "    .dataframe thead th {\n",
              "        text-align: right;\n",
              "    }\n",
              "</style>\n",
              "<table border=\"1\" class=\"dataframe\">\n",
              "  <thead>\n",
              "    <tr style=\"text-align: right;\">\n",
              "      <th></th>\n",
              "      <th>0.00632</th>\n",
              "      <th>18.00</th>\n",
              "      <th>2.310</th>\n",
              "      <th>0</th>\n",
              "      <th>0.5380</th>\n",
              "      <th>6.5750</th>\n",
              "      <th>65.20</th>\n",
              "      <th>4.0900</th>\n",
              "      <th>1</th>\n",
              "      <th>296.0</th>\n",
              "      <th>15.30</th>\n",
              "      <th>396.90</th>\n",
              "      <th>4.98</th>\n",
              "      <th>24.00</th>\n",
              "    </tr>\n",
              "  </thead>\n",
              "  <tbody>\n",
              "    <tr>\n",
              "      <th>0</th>\n",
              "      <td>0.02731</td>\n",
              "      <td>0.0</td>\n",
              "      <td>7.07</td>\n",
              "      <td>0</td>\n",
              "      <td>0.469</td>\n",
              "      <td>6.421</td>\n",
              "      <td>78.9</td>\n",
              "      <td>4.9671</td>\n",
              "      <td>2</td>\n",
              "      <td>242.0</td>\n",
              "      <td>17.8</td>\n",
              "      <td>396.90</td>\n",
              "      <td>9.14</td>\n",
              "      <td>21.6</td>\n",
              "    </tr>\n",
              "    <tr>\n",
              "      <th>1</th>\n",
              "      <td>0.02729</td>\n",
              "      <td>0.0</td>\n",
              "      <td>7.07</td>\n",
              "      <td>0</td>\n",
              "      <td>0.469</td>\n",
              "      <td>7.185</td>\n",
              "      <td>61.1</td>\n",
              "      <td>4.9671</td>\n",
              "      <td>2</td>\n",
              "      <td>242.0</td>\n",
              "      <td>17.8</td>\n",
              "      <td>392.83</td>\n",
              "      <td>4.03</td>\n",
              "      <td>34.7</td>\n",
              "    </tr>\n",
              "    <tr>\n",
              "      <th>2</th>\n",
              "      <td>0.03237</td>\n",
              "      <td>0.0</td>\n",
              "      <td>2.18</td>\n",
              "      <td>0</td>\n",
              "      <td>0.458</td>\n",
              "      <td>6.998</td>\n",
              "      <td>45.8</td>\n",
              "      <td>6.0622</td>\n",
              "      <td>3</td>\n",
              "      <td>222.0</td>\n",
              "      <td>18.7</td>\n",
              "      <td>394.63</td>\n",
              "      <td>2.94</td>\n",
              "      <td>33.4</td>\n",
              "    </tr>\n",
              "    <tr>\n",
              "      <th>3</th>\n",
              "      <td>0.06905</td>\n",
              "      <td>0.0</td>\n",
              "      <td>2.18</td>\n",
              "      <td>0</td>\n",
              "      <td>0.458</td>\n",
              "      <td>7.147</td>\n",
              "      <td>54.2</td>\n",
              "      <td>6.0622</td>\n",
              "      <td>3</td>\n",
              "      <td>222.0</td>\n",
              "      <td>18.7</td>\n",
              "      <td>396.90</td>\n",
              "      <td>5.33</td>\n",
              "      <td>36.2</td>\n",
              "    </tr>\n",
              "    <tr>\n",
              "      <th>4</th>\n",
              "      <td>0.02985</td>\n",
              "      <td>0.0</td>\n",
              "      <td>2.18</td>\n",
              "      <td>0</td>\n",
              "      <td>0.458</td>\n",
              "      <td>6.430</td>\n",
              "      <td>58.7</td>\n",
              "      <td>6.0622</td>\n",
              "      <td>3</td>\n",
              "      <td>222.0</td>\n",
              "      <td>18.7</td>\n",
              "      <td>394.12</td>\n",
              "      <td>5.21</td>\n",
              "      <td>28.7</td>\n",
              "    </tr>\n",
              "    <tr>\n",
              "      <th>...</th>\n",
              "      <td>...</td>\n",
              "      <td>...</td>\n",
              "      <td>...</td>\n",
              "      <td>...</td>\n",
              "      <td>...</td>\n",
              "      <td>...</td>\n",
              "      <td>...</td>\n",
              "      <td>...</td>\n",
              "      <td>...</td>\n",
              "      <td>...</td>\n",
              "      <td>...</td>\n",
              "      <td>...</td>\n",
              "      <td>...</td>\n",
              "      <td>...</td>\n",
              "    </tr>\n",
              "    <tr>\n",
              "      <th>500</th>\n",
              "      <td>0.06263</td>\n",
              "      <td>0.0</td>\n",
              "      <td>11.93</td>\n",
              "      <td>0</td>\n",
              "      <td>0.573</td>\n",
              "      <td>6.593</td>\n",
              "      <td>69.1</td>\n",
              "      <td>2.4786</td>\n",
              "      <td>1</td>\n",
              "      <td>273.0</td>\n",
              "      <td>21.0</td>\n",
              "      <td>391.99</td>\n",
              "      <td>9.67</td>\n",
              "      <td>22.4</td>\n",
              "    </tr>\n",
              "    <tr>\n",
              "      <th>501</th>\n",
              "      <td>0.04527</td>\n",
              "      <td>0.0</td>\n",
              "      <td>11.93</td>\n",
              "      <td>0</td>\n",
              "      <td>0.573</td>\n",
              "      <td>6.120</td>\n",
              "      <td>76.7</td>\n",
              "      <td>2.2875</td>\n",
              "      <td>1</td>\n",
              "      <td>273.0</td>\n",
              "      <td>21.0</td>\n",
              "      <td>396.90</td>\n",
              "      <td>9.08</td>\n",
              "      <td>20.6</td>\n",
              "    </tr>\n",
              "    <tr>\n",
              "      <th>502</th>\n",
              "      <td>0.06076</td>\n",
              "      <td>0.0</td>\n",
              "      <td>11.93</td>\n",
              "      <td>0</td>\n",
              "      <td>0.573</td>\n",
              "      <td>6.976</td>\n",
              "      <td>91.0</td>\n",
              "      <td>2.1675</td>\n",
              "      <td>1</td>\n",
              "      <td>273.0</td>\n",
              "      <td>21.0</td>\n",
              "      <td>396.90</td>\n",
              "      <td>5.64</td>\n",
              "      <td>23.9</td>\n",
              "    </tr>\n",
              "    <tr>\n",
              "      <th>503</th>\n",
              "      <td>0.10959</td>\n",
              "      <td>0.0</td>\n",
              "      <td>11.93</td>\n",
              "      <td>0</td>\n",
              "      <td>0.573</td>\n",
              "      <td>6.794</td>\n",
              "      <td>89.3</td>\n",
              "      <td>2.3889</td>\n",
              "      <td>1</td>\n",
              "      <td>273.0</td>\n",
              "      <td>21.0</td>\n",
              "      <td>393.45</td>\n",
              "      <td>6.48</td>\n",
              "      <td>22.0</td>\n",
              "    </tr>\n",
              "    <tr>\n",
              "      <th>504</th>\n",
              "      <td>0.04741</td>\n",
              "      <td>0.0</td>\n",
              "      <td>11.93</td>\n",
              "      <td>0</td>\n",
              "      <td>0.573</td>\n",
              "      <td>6.030</td>\n",
              "      <td>80.8</td>\n",
              "      <td>2.5050</td>\n",
              "      <td>1</td>\n",
              "      <td>273.0</td>\n",
              "      <td>21.0</td>\n",
              "      <td>396.90</td>\n",
              "      <td>7.88</td>\n",
              "      <td>11.9</td>\n",
              "    </tr>\n",
              "  </tbody>\n",
              "</table>\n",
              "<p>505 rows × 14 columns</p>\n",
              "</div>"
            ],
            "text/plain": [
              "     0.00632  18.00  2.310  0  0.5380  6.5750  65.20  4.0900  1  296.0  15.30  \\\n",
              "0    0.02731    0.0   7.07  0   0.469   6.421   78.9  4.9671  2  242.0   17.8   \n",
              "1    0.02729    0.0   7.07  0   0.469   7.185   61.1  4.9671  2  242.0   17.8   \n",
              "2    0.03237    0.0   2.18  0   0.458   6.998   45.8  6.0622  3  222.0   18.7   \n",
              "3    0.06905    0.0   2.18  0   0.458   7.147   54.2  6.0622  3  222.0   18.7   \n",
              "4    0.02985    0.0   2.18  0   0.458   6.430   58.7  6.0622  3  222.0   18.7   \n",
              "..       ...    ...    ... ..     ...     ...    ...     ... ..    ...    ...   \n",
              "500  0.06263    0.0  11.93  0   0.573   6.593   69.1  2.4786  1  273.0   21.0   \n",
              "501  0.04527    0.0  11.93  0   0.573   6.120   76.7  2.2875  1  273.0   21.0   \n",
              "502  0.06076    0.0  11.93  0   0.573   6.976   91.0  2.1675  1  273.0   21.0   \n",
              "503  0.10959    0.0  11.93  0   0.573   6.794   89.3  2.3889  1  273.0   21.0   \n",
              "504  0.04741    0.0  11.93  0   0.573   6.030   80.8  2.5050  1  273.0   21.0   \n",
              "\n",
              "     396.90  4.98  24.00  \n",
              "0    396.90  9.14   21.6  \n",
              "1    392.83  4.03   34.7  \n",
              "2    394.63  2.94   33.4  \n",
              "3    396.90  5.33   36.2  \n",
              "4    394.12  5.21   28.7  \n",
              "..      ...   ...    ...  \n",
              "500  391.99  9.67   22.4  \n",
              "501  396.90  9.08   20.6  \n",
              "502  396.90  5.64   23.9  \n",
              "503  393.45  6.48   22.0  \n",
              "504  396.90  7.88   11.9  \n",
              "\n",
              "[505 rows x 14 columns]"
            ]
          },
          "execution_count": 12,
          "metadata": {},
          "output_type": "execute_result"
        }
      ],
      "source": [
        "df = pd.read_csv(\"housing.csv\")\n",
        "df"
      ],
      "id": "e-ItvipAJFUP"
    }
  ],
  "metadata": {
    "kernelspec": {
      "display_name": "Python 3",
      "language": "python",
      "name": "python3"
    },
    "language_info": {
      "codemirror_mode": {
        "name": "ipython",
        "version": 3
      },
      "file_extension": ".py",
      "mimetype": "text/x-python",
      "name": "python",
      "nbconvert_exporter": "python",
      "pygments_lexer": "ipython3",
      "version": "3.8.5"
    },
    "colab": {
      "name": "experiment 5.ipynb",
      "provenance": []
    }
  },
  "nbformat": 4,
  "nbformat_minor": 5
}